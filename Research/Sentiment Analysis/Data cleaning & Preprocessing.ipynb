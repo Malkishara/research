{
 "cells": [
  {
   "cell_type": "markdown",
   "id": "c4b503f6",
   "metadata": {},
   "source": [
    "# Importing needful libraries and modules\n"
   ]
  },
  {
   "cell_type": "code",
   "execution_count": 10,
   "id": "100864cd",
   "metadata": {},
   "outputs": [],
   "source": [
    "import pandas as pd\n",
    "import numpy as np\n",
    "\n",
    "# plotting modules\n",
    "import seaborn as sns\n",
    "import matplotlib.pyplot as plt\n",
    "\n",
    "#standardizing modules\n",
    "from sklearn.preprocessing import StandardScaler"
   ]
  },
  {
   "cell_type": "markdown",
   "id": "b5d02106",
   "metadata": {},
   "source": [
    "# Merge datasets\n"
   ]
  },
  {
   "cell_type": "code",
   "execution_count": 11,
   "id": "1ad1a895",
   "metadata": {},
   "outputs": [],
   "source": [
    "# Read the CSV files into pandas DataFrames\n",
    "reviews_df = pd.read_csv('C:/Users/DELL/Desktop/Research/Data/reviews.csv')\n",
    "items_df = pd.read_csv('C:/Users/DELL/Desktop/Research/Data/items.csv')\n",
    "\n",
    "items_df.rename(columns={'title': 'product', 'rating': 'averageRating'}, inplace=True)\n",
    "\n",
    "\n",
    "# Merge the DataFrames based on the common column 'asin'\n",
    "combined_df = pd.merge( reviews_df,items_df, on='asin')\n",
    "\n",
    "# save the combined DataFrame to a new CSV file\n",
    "combined_df.to_csv('C:/Users/DELL/Desktop/Research/Data/combined.csv', index=False)"
   ]
  },
  {
   "cell_type": "code",
   "execution_count": 12,
   "id": "799a9e51",
   "metadata": {},
   "outputs": [
    {
     "data": {
      "text/html": [
       "<div>\n",
       "<style scoped>\n",
       "    .dataframe tbody tr th:only-of-type {\n",
       "        vertical-align: middle;\n",
       "    }\n",
       "\n",
       "    .dataframe tbody tr th {\n",
       "        vertical-align: top;\n",
       "    }\n",
       "\n",
       "    .dataframe thead th {\n",
       "        text-align: right;\n",
       "    }\n",
       "</style>\n",
       "<table border=\"1\" class=\"dataframe\">\n",
       "  <thead>\n",
       "    <tr style=\"text-align: right;\">\n",
       "      <th></th>\n",
       "      <th>asin</th>\n",
       "      <th>brand</th>\n",
       "      <th>product</th>\n",
       "      <th>url</th>\n",
       "      <th>image</th>\n",
       "      <th>averageRating</th>\n",
       "      <th>reviewUrl</th>\n",
       "      <th>totalReviews</th>\n",
       "      <th>price</th>\n",
       "      <th>originalPrice</th>\n",
       "    </tr>\n",
       "  </thead>\n",
       "  <tbody>\n",
       "    <tr>\n",
       "      <th>0</th>\n",
       "      <td>B0000SX2UC</td>\n",
       "      <td>NaN</td>\n",
       "      <td>Dual-Band / Tri-Mode Sprint PCS Phone w/ Voice...</td>\n",
       "      <td>https://www.amazon.com/Dual-Band-Tri-Mode-Acti...</td>\n",
       "      <td>https://m.media-amazon.com/images/I/2143EBQ210...</td>\n",
       "      <td>3.0</td>\n",
       "      <td>https://www.amazon.com/product-reviews/B0000SX2UC</td>\n",
       "      <td>14</td>\n",
       "      <td>0.00</td>\n",
       "      <td>0.00</td>\n",
       "    </tr>\n",
       "    <tr>\n",
       "      <th>1</th>\n",
       "      <td>B0009N5L7K</td>\n",
       "      <td>Motorola</td>\n",
       "      <td>Motorola I265 phone</td>\n",
       "      <td>https://www.amazon.com/Motorola-i265-I265-phon...</td>\n",
       "      <td>https://m.media-amazon.com/images/I/419WBAVDAR...</td>\n",
       "      <td>3.0</td>\n",
       "      <td>https://www.amazon.com/product-reviews/B0009N5L7K</td>\n",
       "      <td>7</td>\n",
       "      <td>49.95</td>\n",
       "      <td>0.00</td>\n",
       "    </tr>\n",
       "    <tr>\n",
       "      <th>2</th>\n",
       "      <td>B000SKTZ0S</td>\n",
       "      <td>Motorola</td>\n",
       "      <td>MOTOROLA C168i AT&amp;T CINGULAR PREPAID GOPHONE C...</td>\n",
       "      <td>https://www.amazon.com/MOTOROLA-C168i-CINGULAR...</td>\n",
       "      <td>https://m.media-amazon.com/images/I/71b+q3ydkI...</td>\n",
       "      <td>2.7</td>\n",
       "      <td>https://www.amazon.com/product-reviews/B000SKTZ0S</td>\n",
       "      <td>22</td>\n",
       "      <td>99.99</td>\n",
       "      <td>0.00</td>\n",
       "    </tr>\n",
       "    <tr>\n",
       "      <th>3</th>\n",
       "      <td>B001AO4OUC</td>\n",
       "      <td>Motorola</td>\n",
       "      <td>Motorola i335 Cell Phone Boost Mobile</td>\n",
       "      <td>https://www.amazon.com/Motorola-i335-Phone-Boo...</td>\n",
       "      <td>https://m.media-amazon.com/images/I/710UO8gdT+...</td>\n",
       "      <td>3.3</td>\n",
       "      <td>https://www.amazon.com/product-reviews/B001AO4OUC</td>\n",
       "      <td>21</td>\n",
       "      <td>0.00</td>\n",
       "      <td>0.00</td>\n",
       "    </tr>\n",
       "    <tr>\n",
       "      <th>4</th>\n",
       "      <td>B001DCJAJG</td>\n",
       "      <td>Motorola</td>\n",
       "      <td>Motorola V365 no contract cellular phone AT&amp;T</td>\n",
       "      <td>https://www.amazon.com/Motorola-V365-contract-...</td>\n",
       "      <td>https://m.media-amazon.com/images/I/61LYNCVrrK...</td>\n",
       "      <td>3.1</td>\n",
       "      <td>https://www.amazon.com/product-reviews/B001DCJAJG</td>\n",
       "      <td>12</td>\n",
       "      <td>149.99</td>\n",
       "      <td>0.00</td>\n",
       "    </tr>\n",
       "    <tr>\n",
       "      <th>...</th>\n",
       "      <td>...</td>\n",
       "      <td>...</td>\n",
       "      <td>...</td>\n",
       "      <td>...</td>\n",
       "      <td>...</td>\n",
       "      <td>...</td>\n",
       "      <td>...</td>\n",
       "      <td>...</td>\n",
       "      <td>...</td>\n",
       "      <td>...</td>\n",
       "    </tr>\n",
       "    <tr>\n",
       "      <th>715</th>\n",
       "      <td>B07ZPKZSSC</td>\n",
       "      <td>Apple</td>\n",
       "      <td>Apple iPhone 11 Pro, 64GB, Fully Unlocked - Sp...</td>\n",
       "      <td>https://www.amazon.com/Apple-iPhone-64GB-Fully...</td>\n",
       "      <td>https://m.media-amazon.com/images/I/41wDuEW9iZ...</td>\n",
       "      <td>1.0</td>\n",
       "      <td>https://www.amazon.com/product-reviews/B07ZPKZSSC</td>\n",
       "      <td>1</td>\n",
       "      <td>949.00</td>\n",
       "      <td>0.00</td>\n",
       "    </tr>\n",
       "    <tr>\n",
       "      <th>716</th>\n",
       "      <td>B07ZQSGP53</td>\n",
       "      <td>Xiaomi</td>\n",
       "      <td>Xiaomi Redmi Note 8, 32GB/3GB RAM 6.3\" FHD+ Di...</td>\n",
       "      <td>https://www.amazon.com/Xiaomi-Display-Snapdrag...</td>\n",
       "      <td>https://m.media-amazon.com/images/I/41foh4FKHE...</td>\n",
       "      <td>4.6</td>\n",
       "      <td>https://www.amazon.com/product-reviews/B07ZQSGP53</td>\n",
       "      <td>3</td>\n",
       "      <td>150.96</td>\n",
       "      <td>0.00</td>\n",
       "    </tr>\n",
       "    <tr>\n",
       "      <th>717</th>\n",
       "      <td>B081H6STQQ</td>\n",
       "      <td>Sony</td>\n",
       "      <td>Sony Xperia 1 Unlocked Smartphone and WH1000XM...</td>\n",
       "      <td>https://www.amazon.com/Sony-Smartphone-WH1000X...</td>\n",
       "      <td>https://m.media-amazon.com/images/I/51zZTAXZTP...</td>\n",
       "      <td>4.5</td>\n",
       "      <td>https://www.amazon.com/product-reviews/B081H6STQQ</td>\n",
       "      <td>70</td>\n",
       "      <td>948.00</td>\n",
       "      <td>0.00</td>\n",
       "    </tr>\n",
       "    <tr>\n",
       "      <th>718</th>\n",
       "      <td>B081TJFVCJ</td>\n",
       "      <td>Apple</td>\n",
       "      <td>Apple iPhone X, 64GB, Gray - Fully Unlocked (R...</td>\n",
       "      <td>https://www.amazon.com/Apple-iPhone-64GB-Gray-...</td>\n",
       "      <td>https://m.media-amazon.com/images/I/71yMgOenT5...</td>\n",
       "      <td>5.0</td>\n",
       "      <td>https://www.amazon.com/product-reviews/B081TJFVCJ</td>\n",
       "      <td>1</td>\n",
       "      <td>478.97</td>\n",
       "      <td>0.00</td>\n",
       "    </tr>\n",
       "    <tr>\n",
       "      <th>719</th>\n",
       "      <td>B0825BB7SG</td>\n",
       "      <td>Samsung</td>\n",
       "      <td>Straight Talk Samsung Galaxy A10e Smartphone 5...</td>\n",
       "      <td>https://www.amazon.com/Straight-Samsung-Galaxy...</td>\n",
       "      <td>https://m.media-amazon.com/images/I/81+3SWSAhD...</td>\n",
       "      <td>5.0</td>\n",
       "      <td>https://www.amazon.com/product-reviews/B0825BB7SG</td>\n",
       "      <td>1</td>\n",
       "      <td>139.00</td>\n",
       "      <td>139.26</td>\n",
       "    </tr>\n",
       "  </tbody>\n",
       "</table>\n",
       "<p>720 rows × 10 columns</p>\n",
       "</div>"
      ],
      "text/plain": [
       "           asin     brand                                            product  \\\n",
       "0    B0000SX2UC       NaN  Dual-Band / Tri-Mode Sprint PCS Phone w/ Voice...   \n",
       "1    B0009N5L7K  Motorola                                Motorola I265 phone   \n",
       "2    B000SKTZ0S  Motorola  MOTOROLA C168i AT&T CINGULAR PREPAID GOPHONE C...   \n",
       "3    B001AO4OUC  Motorola              Motorola i335 Cell Phone Boost Mobile   \n",
       "4    B001DCJAJG  Motorola      Motorola V365 no contract cellular phone AT&T   \n",
       "..          ...       ...                                                ...   \n",
       "715  B07ZPKZSSC     Apple  Apple iPhone 11 Pro, 64GB, Fully Unlocked - Sp...   \n",
       "716  B07ZQSGP53    Xiaomi  Xiaomi Redmi Note 8, 32GB/3GB RAM 6.3\" FHD+ Di...   \n",
       "717  B081H6STQQ      Sony  Sony Xperia 1 Unlocked Smartphone and WH1000XM...   \n",
       "718  B081TJFVCJ     Apple  Apple iPhone X, 64GB, Gray - Fully Unlocked (R...   \n",
       "719  B0825BB7SG   Samsung  Straight Talk Samsung Galaxy A10e Smartphone 5...   \n",
       "\n",
       "                                                   url  \\\n",
       "0    https://www.amazon.com/Dual-Band-Tri-Mode-Acti...   \n",
       "1    https://www.amazon.com/Motorola-i265-I265-phon...   \n",
       "2    https://www.amazon.com/MOTOROLA-C168i-CINGULAR...   \n",
       "3    https://www.amazon.com/Motorola-i335-Phone-Boo...   \n",
       "4    https://www.amazon.com/Motorola-V365-contract-...   \n",
       "..                                                 ...   \n",
       "715  https://www.amazon.com/Apple-iPhone-64GB-Fully...   \n",
       "716  https://www.amazon.com/Xiaomi-Display-Snapdrag...   \n",
       "717  https://www.amazon.com/Sony-Smartphone-WH1000X...   \n",
       "718  https://www.amazon.com/Apple-iPhone-64GB-Gray-...   \n",
       "719  https://www.amazon.com/Straight-Samsung-Galaxy...   \n",
       "\n",
       "                                                 image  averageRating  \\\n",
       "0    https://m.media-amazon.com/images/I/2143EBQ210...            3.0   \n",
       "1    https://m.media-amazon.com/images/I/419WBAVDAR...            3.0   \n",
       "2    https://m.media-amazon.com/images/I/71b+q3ydkI...            2.7   \n",
       "3    https://m.media-amazon.com/images/I/710UO8gdT+...            3.3   \n",
       "4    https://m.media-amazon.com/images/I/61LYNCVrrK...            3.1   \n",
       "..                                                 ...            ...   \n",
       "715  https://m.media-amazon.com/images/I/41wDuEW9iZ...            1.0   \n",
       "716  https://m.media-amazon.com/images/I/41foh4FKHE...            4.6   \n",
       "717  https://m.media-amazon.com/images/I/51zZTAXZTP...            4.5   \n",
       "718  https://m.media-amazon.com/images/I/71yMgOenT5...            5.0   \n",
       "719  https://m.media-amazon.com/images/I/81+3SWSAhD...            5.0   \n",
       "\n",
       "                                             reviewUrl  totalReviews   price  \\\n",
       "0    https://www.amazon.com/product-reviews/B0000SX2UC            14    0.00   \n",
       "1    https://www.amazon.com/product-reviews/B0009N5L7K             7   49.95   \n",
       "2    https://www.amazon.com/product-reviews/B000SKTZ0S            22   99.99   \n",
       "3    https://www.amazon.com/product-reviews/B001AO4OUC            21    0.00   \n",
       "4    https://www.amazon.com/product-reviews/B001DCJAJG            12  149.99   \n",
       "..                                                 ...           ...     ...   \n",
       "715  https://www.amazon.com/product-reviews/B07ZPKZSSC             1  949.00   \n",
       "716  https://www.amazon.com/product-reviews/B07ZQSGP53             3  150.96   \n",
       "717  https://www.amazon.com/product-reviews/B081H6STQQ            70  948.00   \n",
       "718  https://www.amazon.com/product-reviews/B081TJFVCJ             1  478.97   \n",
       "719  https://www.amazon.com/product-reviews/B0825BB7SG             1  139.00   \n",
       "\n",
       "     originalPrice  \n",
       "0             0.00  \n",
       "1             0.00  \n",
       "2             0.00  \n",
       "3             0.00  \n",
       "4             0.00  \n",
       "..             ...  \n",
       "715           0.00  \n",
       "716           0.00  \n",
       "717           0.00  \n",
       "718           0.00  \n",
       "719         139.26  \n",
       "\n",
       "[720 rows x 10 columns]"
      ]
     },
     "execution_count": 12,
     "metadata": {},
     "output_type": "execute_result"
    }
   ],
   "source": [
    "items_df"
   ]
  },
  {
   "cell_type": "code",
   "execution_count": 13,
   "id": "b5572fa9",
   "metadata": {},
   "outputs": [
    {
     "data": {
      "text/html": [
       "<div>\n",
       "<style scoped>\n",
       "    .dataframe tbody tr th:only-of-type {\n",
       "        vertical-align: middle;\n",
       "    }\n",
       "\n",
       "    .dataframe tbody tr th {\n",
       "        vertical-align: top;\n",
       "    }\n",
       "\n",
       "    .dataframe thead th {\n",
       "        text-align: right;\n",
       "    }\n",
       "</style>\n",
       "<table border=\"1\" class=\"dataframe\">\n",
       "  <thead>\n",
       "    <tr style=\"text-align: right;\">\n",
       "      <th></th>\n",
       "      <th>asin</th>\n",
       "      <th>name</th>\n",
       "      <th>rating</th>\n",
       "      <th>date</th>\n",
       "      <th>verified</th>\n",
       "      <th>title</th>\n",
       "      <th>body</th>\n",
       "      <th>helpfulVotes</th>\n",
       "    </tr>\n",
       "  </thead>\n",
       "  <tbody>\n",
       "    <tr>\n",
       "      <th>0</th>\n",
       "      <td>B0000SX2UC</td>\n",
       "      <td>Janet</td>\n",
       "      <td>3</td>\n",
       "      <td>October 11, 2005</td>\n",
       "      <td>False</td>\n",
       "      <td>Def not best, but not worst</td>\n",
       "      <td>I had the Samsung A600 for awhile which is abs...</td>\n",
       "      <td>1.0</td>\n",
       "    </tr>\n",
       "    <tr>\n",
       "      <th>1</th>\n",
       "      <td>B0000SX2UC</td>\n",
       "      <td>Luke Wyatt</td>\n",
       "      <td>1</td>\n",
       "      <td>January 7, 2004</td>\n",
       "      <td>False</td>\n",
       "      <td>Text Messaging Doesn't Work</td>\n",
       "      <td>Due to a software issue between Nokia and Spri...</td>\n",
       "      <td>17.0</td>\n",
       "    </tr>\n",
       "    <tr>\n",
       "      <th>2</th>\n",
       "      <td>B0000SX2UC</td>\n",
       "      <td>Brooke</td>\n",
       "      <td>5</td>\n",
       "      <td>December 30, 2003</td>\n",
       "      <td>False</td>\n",
       "      <td>Love This Phone</td>\n",
       "      <td>This is a great, reliable phone. I also purcha...</td>\n",
       "      <td>5.0</td>\n",
       "    </tr>\n",
       "    <tr>\n",
       "      <th>3</th>\n",
       "      <td>B0000SX2UC</td>\n",
       "      <td>amy m. teague</td>\n",
       "      <td>3</td>\n",
       "      <td>March 18, 2004</td>\n",
       "      <td>False</td>\n",
       "      <td>Love the Phone, BUT...!</td>\n",
       "      <td>I love the phone and all, because I really did...</td>\n",
       "      <td>1.0</td>\n",
       "    </tr>\n",
       "    <tr>\n",
       "      <th>4</th>\n",
       "      <td>B0000SX2UC</td>\n",
       "      <td>tristazbimmer</td>\n",
       "      <td>4</td>\n",
       "      <td>August 28, 2005</td>\n",
       "      <td>False</td>\n",
       "      <td>Great phone service and options, lousy case!</td>\n",
       "      <td>The phone has been great for every purpose it ...</td>\n",
       "      <td>1.0</td>\n",
       "    </tr>\n",
       "    <tr>\n",
       "      <th>...</th>\n",
       "      <td>...</td>\n",
       "      <td>...</td>\n",
       "      <td>...</td>\n",
       "      <td>...</td>\n",
       "      <td>...</td>\n",
       "      <td>...</td>\n",
       "      <td>...</td>\n",
       "      <td>...</td>\n",
       "    </tr>\n",
       "    <tr>\n",
       "      <th>67981</th>\n",
       "      <td>B081H6STQQ</td>\n",
       "      <td>jande</td>\n",
       "      <td>5</td>\n",
       "      <td>August 16, 2019</td>\n",
       "      <td>False</td>\n",
       "      <td>Awesome Phone, but finger scanner is a big mis...</td>\n",
       "      <td>I love the camera on this phone. The screen is...</td>\n",
       "      <td>1.0</td>\n",
       "    </tr>\n",
       "    <tr>\n",
       "      <th>67982</th>\n",
       "      <td>B081H6STQQ</td>\n",
       "      <td>2cool4u</td>\n",
       "      <td>5</td>\n",
       "      <td>September 14, 2019</td>\n",
       "      <td>False</td>\n",
       "      <td>Simply Amazing!</td>\n",
       "      <td>I've been an Xperia user for several years and...</td>\n",
       "      <td>1.0</td>\n",
       "    </tr>\n",
       "    <tr>\n",
       "      <th>67983</th>\n",
       "      <td>B081H6STQQ</td>\n",
       "      <td>simon</td>\n",
       "      <td>5</td>\n",
       "      <td>July 14, 2019</td>\n",
       "      <td>False</td>\n",
       "      <td>great phon3, but many bugs need to fix. still ...</td>\n",
       "      <td>buy one more for my cousin</td>\n",
       "      <td>NaN</td>\n",
       "    </tr>\n",
       "    <tr>\n",
       "      <th>67984</th>\n",
       "      <td>B081TJFVCJ</td>\n",
       "      <td>Tobiasz Jedrysiak</td>\n",
       "      <td>5</td>\n",
       "      <td>December 24, 2019</td>\n",
       "      <td>True</td>\n",
       "      <td>Phone is like new</td>\n",
       "      <td>Product looks and works like new. Very much re...</td>\n",
       "      <td>NaN</td>\n",
       "    </tr>\n",
       "    <tr>\n",
       "      <th>67985</th>\n",
       "      <td>B0825BB7SG</td>\n",
       "      <td>Owen Gonzalez</td>\n",
       "      <td>5</td>\n",
       "      <td>December 11, 2019</td>\n",
       "      <td>False</td>\n",
       "      <td>Outstanding phone for the price</td>\n",
       "      <td>I love the size and style of this phone. It is...</td>\n",
       "      <td>NaN</td>\n",
       "    </tr>\n",
       "  </tbody>\n",
       "</table>\n",
       "<p>67986 rows × 8 columns</p>\n",
       "</div>"
      ],
      "text/plain": [
       "             asin               name  rating                date  verified  \\\n",
       "0      B0000SX2UC              Janet       3    October 11, 2005     False   \n",
       "1      B0000SX2UC         Luke Wyatt       1     January 7, 2004     False   \n",
       "2      B0000SX2UC             Brooke       5   December 30, 2003     False   \n",
       "3      B0000SX2UC      amy m. teague       3      March 18, 2004     False   \n",
       "4      B0000SX2UC      tristazbimmer       4     August 28, 2005     False   \n",
       "...           ...                ...     ...                 ...       ...   \n",
       "67981  B081H6STQQ              jande       5     August 16, 2019     False   \n",
       "67982  B081H6STQQ            2cool4u       5  September 14, 2019     False   \n",
       "67983  B081H6STQQ              simon       5       July 14, 2019     False   \n",
       "67984  B081TJFVCJ  Tobiasz Jedrysiak       5   December 24, 2019      True   \n",
       "67985  B0825BB7SG      Owen Gonzalez       5   December 11, 2019     False   \n",
       "\n",
       "                                                   title  \\\n",
       "0                            Def not best, but not worst   \n",
       "1                            Text Messaging Doesn't Work   \n",
       "2                                        Love This Phone   \n",
       "3                                Love the Phone, BUT...!   \n",
       "4           Great phone service and options, lousy case!   \n",
       "...                                                  ...   \n",
       "67981  Awesome Phone, but finger scanner is a big mis...   \n",
       "67982                                    Simply Amazing!   \n",
       "67983  great phon3, but many bugs need to fix. still ...   \n",
       "67984                                  Phone is like new   \n",
       "67985                    Outstanding phone for the price   \n",
       "\n",
       "                                                    body  helpfulVotes  \n",
       "0      I had the Samsung A600 for awhile which is abs...           1.0  \n",
       "1      Due to a software issue between Nokia and Spri...          17.0  \n",
       "2      This is a great, reliable phone. I also purcha...           5.0  \n",
       "3      I love the phone and all, because I really did...           1.0  \n",
       "4      The phone has been great for every purpose it ...           1.0  \n",
       "...                                                  ...           ...  \n",
       "67981  I love the camera on this phone. The screen is...           1.0  \n",
       "67982  I've been an Xperia user for several years and...           1.0  \n",
       "67983                         buy one more for my cousin           NaN  \n",
       "67984  Product looks and works like new. Very much re...           NaN  \n",
       "67985  I love the size and style of this phone. It is...           NaN  \n",
       "\n",
       "[67986 rows x 8 columns]"
      ]
     },
     "execution_count": 13,
     "metadata": {},
     "output_type": "execute_result"
    }
   ],
   "source": [
    "reviews_df"
   ]
  },
  {
   "cell_type": "markdown",
   "id": "e4da8d6f",
   "metadata": {},
   "source": [
    "# Data Cleaning\n"
   ]
  },
  {
   "cell_type": "markdown",
   "id": "e4a1c64e",
   "metadata": {},
   "source": [
    "### Dealing with missing values"
   ]
  },
  {
   "cell_type": "code",
   "execution_count": 14,
   "id": "83a1fa96",
   "metadata": {},
   "outputs": [],
   "source": [
    "df=pd.read_csv(\"C:/Users/DELL/Desktop/Research/Data/combined.csv\")"
   ]
  },
  {
   "cell_type": "code",
   "execution_count": 15,
   "id": "ac2a1be3",
   "metadata": {},
   "outputs": [
    {
     "data": {
      "text/html": [
       "<div>\n",
       "<style scoped>\n",
       "    .dataframe tbody tr th:only-of-type {\n",
       "        vertical-align: middle;\n",
       "    }\n",
       "\n",
       "    .dataframe tbody tr th {\n",
       "        vertical-align: top;\n",
       "    }\n",
       "\n",
       "    .dataframe thead th {\n",
       "        text-align: right;\n",
       "    }\n",
       "</style>\n",
       "<table border=\"1\" class=\"dataframe\">\n",
       "  <thead>\n",
       "    <tr style=\"text-align: right;\">\n",
       "      <th></th>\n",
       "      <th>asin</th>\n",
       "      <th>name</th>\n",
       "      <th>rating</th>\n",
       "      <th>date</th>\n",
       "      <th>verified</th>\n",
       "      <th>title</th>\n",
       "      <th>body</th>\n",
       "      <th>helpfulVotes</th>\n",
       "      <th>brand</th>\n",
       "      <th>product</th>\n",
       "      <th>url</th>\n",
       "      <th>image</th>\n",
       "      <th>averageRating</th>\n",
       "      <th>reviewUrl</th>\n",
       "      <th>totalReviews</th>\n",
       "      <th>price</th>\n",
       "      <th>originalPrice</th>\n",
       "    </tr>\n",
       "  </thead>\n",
       "  <tbody>\n",
       "    <tr>\n",
       "      <th>0</th>\n",
       "      <td>B0000SX2UC</td>\n",
       "      <td>Janet</td>\n",
       "      <td>3</td>\n",
       "      <td>October 11, 2005</td>\n",
       "      <td>False</td>\n",
       "      <td>Def not best, but not worst</td>\n",
       "      <td>I had the Samsung A600 for awhile which is abs...</td>\n",
       "      <td>1.0</td>\n",
       "      <td>NaN</td>\n",
       "      <td>Dual-Band / Tri-Mode Sprint PCS Phone w/ Voice...</td>\n",
       "      <td>https://www.amazon.com/Dual-Band-Tri-Mode-Acti...</td>\n",
       "      <td>https://m.media-amazon.com/images/I/2143EBQ210...</td>\n",
       "      <td>3.0</td>\n",
       "      <td>https://www.amazon.com/product-reviews/B0000SX2UC</td>\n",
       "      <td>14</td>\n",
       "      <td>0.00</td>\n",
       "      <td>0.00</td>\n",
       "    </tr>\n",
       "    <tr>\n",
       "      <th>1</th>\n",
       "      <td>B0000SX2UC</td>\n",
       "      <td>Luke Wyatt</td>\n",
       "      <td>1</td>\n",
       "      <td>January 7, 2004</td>\n",
       "      <td>False</td>\n",
       "      <td>Text Messaging Doesn't Work</td>\n",
       "      <td>Due to a software issue between Nokia and Spri...</td>\n",
       "      <td>17.0</td>\n",
       "      <td>NaN</td>\n",
       "      <td>Dual-Band / Tri-Mode Sprint PCS Phone w/ Voice...</td>\n",
       "      <td>https://www.amazon.com/Dual-Band-Tri-Mode-Acti...</td>\n",
       "      <td>https://m.media-amazon.com/images/I/2143EBQ210...</td>\n",
       "      <td>3.0</td>\n",
       "      <td>https://www.amazon.com/product-reviews/B0000SX2UC</td>\n",
       "      <td>14</td>\n",
       "      <td>0.00</td>\n",
       "      <td>0.00</td>\n",
       "    </tr>\n",
       "    <tr>\n",
       "      <th>2</th>\n",
       "      <td>B0000SX2UC</td>\n",
       "      <td>Brooke</td>\n",
       "      <td>5</td>\n",
       "      <td>December 30, 2003</td>\n",
       "      <td>False</td>\n",
       "      <td>Love This Phone</td>\n",
       "      <td>This is a great, reliable phone. I also purcha...</td>\n",
       "      <td>5.0</td>\n",
       "      <td>NaN</td>\n",
       "      <td>Dual-Band / Tri-Mode Sprint PCS Phone w/ Voice...</td>\n",
       "      <td>https://www.amazon.com/Dual-Band-Tri-Mode-Acti...</td>\n",
       "      <td>https://m.media-amazon.com/images/I/2143EBQ210...</td>\n",
       "      <td>3.0</td>\n",
       "      <td>https://www.amazon.com/product-reviews/B0000SX2UC</td>\n",
       "      <td>14</td>\n",
       "      <td>0.00</td>\n",
       "      <td>0.00</td>\n",
       "    </tr>\n",
       "    <tr>\n",
       "      <th>3</th>\n",
       "      <td>B0000SX2UC</td>\n",
       "      <td>amy m. teague</td>\n",
       "      <td>3</td>\n",
       "      <td>March 18, 2004</td>\n",
       "      <td>False</td>\n",
       "      <td>Love the Phone, BUT...!</td>\n",
       "      <td>I love the phone and all, because I really did...</td>\n",
       "      <td>1.0</td>\n",
       "      <td>NaN</td>\n",
       "      <td>Dual-Band / Tri-Mode Sprint PCS Phone w/ Voice...</td>\n",
       "      <td>https://www.amazon.com/Dual-Band-Tri-Mode-Acti...</td>\n",
       "      <td>https://m.media-amazon.com/images/I/2143EBQ210...</td>\n",
       "      <td>3.0</td>\n",
       "      <td>https://www.amazon.com/product-reviews/B0000SX2UC</td>\n",
       "      <td>14</td>\n",
       "      <td>0.00</td>\n",
       "      <td>0.00</td>\n",
       "    </tr>\n",
       "    <tr>\n",
       "      <th>4</th>\n",
       "      <td>B0000SX2UC</td>\n",
       "      <td>tristazbimmer</td>\n",
       "      <td>4</td>\n",
       "      <td>August 28, 2005</td>\n",
       "      <td>False</td>\n",
       "      <td>Great phone service and options, lousy case!</td>\n",
       "      <td>The phone has been great for every purpose it ...</td>\n",
       "      <td>1.0</td>\n",
       "      <td>NaN</td>\n",
       "      <td>Dual-Band / Tri-Mode Sprint PCS Phone w/ Voice...</td>\n",
       "      <td>https://www.amazon.com/Dual-Band-Tri-Mode-Acti...</td>\n",
       "      <td>https://m.media-amazon.com/images/I/2143EBQ210...</td>\n",
       "      <td>3.0</td>\n",
       "      <td>https://www.amazon.com/product-reviews/B0000SX2UC</td>\n",
       "      <td>14</td>\n",
       "      <td>0.00</td>\n",
       "      <td>0.00</td>\n",
       "    </tr>\n",
       "    <tr>\n",
       "      <th>...</th>\n",
       "      <td>...</td>\n",
       "      <td>...</td>\n",
       "      <td>...</td>\n",
       "      <td>...</td>\n",
       "      <td>...</td>\n",
       "      <td>...</td>\n",
       "      <td>...</td>\n",
       "      <td>...</td>\n",
       "      <td>...</td>\n",
       "      <td>...</td>\n",
       "      <td>...</td>\n",
       "      <td>...</td>\n",
       "      <td>...</td>\n",
       "      <td>...</td>\n",
       "      <td>...</td>\n",
       "      <td>...</td>\n",
       "      <td>...</td>\n",
       "    </tr>\n",
       "    <tr>\n",
       "      <th>67981</th>\n",
       "      <td>B081H6STQQ</td>\n",
       "      <td>jande</td>\n",
       "      <td>5</td>\n",
       "      <td>August 16, 2019</td>\n",
       "      <td>False</td>\n",
       "      <td>Awesome Phone, but finger scanner is a big mis...</td>\n",
       "      <td>I love the camera on this phone. The screen is...</td>\n",
       "      <td>1.0</td>\n",
       "      <td>Sony</td>\n",
       "      <td>Sony Xperia 1 Unlocked Smartphone and WH1000XM...</td>\n",
       "      <td>https://www.amazon.com/Sony-Smartphone-WH1000X...</td>\n",
       "      <td>https://m.media-amazon.com/images/I/51zZTAXZTP...</td>\n",
       "      <td>4.5</td>\n",
       "      <td>https://www.amazon.com/product-reviews/B081H6STQQ</td>\n",
       "      <td>70</td>\n",
       "      <td>948.00</td>\n",
       "      <td>0.00</td>\n",
       "    </tr>\n",
       "    <tr>\n",
       "      <th>67982</th>\n",
       "      <td>B081H6STQQ</td>\n",
       "      <td>2cool4u</td>\n",
       "      <td>5</td>\n",
       "      <td>September 14, 2019</td>\n",
       "      <td>False</td>\n",
       "      <td>Simply Amazing!</td>\n",
       "      <td>I've been an Xperia user for several years and...</td>\n",
       "      <td>1.0</td>\n",
       "      <td>Sony</td>\n",
       "      <td>Sony Xperia 1 Unlocked Smartphone and WH1000XM...</td>\n",
       "      <td>https://www.amazon.com/Sony-Smartphone-WH1000X...</td>\n",
       "      <td>https://m.media-amazon.com/images/I/51zZTAXZTP...</td>\n",
       "      <td>4.5</td>\n",
       "      <td>https://www.amazon.com/product-reviews/B081H6STQQ</td>\n",
       "      <td>70</td>\n",
       "      <td>948.00</td>\n",
       "      <td>0.00</td>\n",
       "    </tr>\n",
       "    <tr>\n",
       "      <th>67983</th>\n",
       "      <td>B081H6STQQ</td>\n",
       "      <td>simon</td>\n",
       "      <td>5</td>\n",
       "      <td>July 14, 2019</td>\n",
       "      <td>False</td>\n",
       "      <td>great phon3, but many bugs need to fix. still ...</td>\n",
       "      <td>buy one more for my cousin</td>\n",
       "      <td>NaN</td>\n",
       "      <td>Sony</td>\n",
       "      <td>Sony Xperia 1 Unlocked Smartphone and WH1000XM...</td>\n",
       "      <td>https://www.amazon.com/Sony-Smartphone-WH1000X...</td>\n",
       "      <td>https://m.media-amazon.com/images/I/51zZTAXZTP...</td>\n",
       "      <td>4.5</td>\n",
       "      <td>https://www.amazon.com/product-reviews/B081H6STQQ</td>\n",
       "      <td>70</td>\n",
       "      <td>948.00</td>\n",
       "      <td>0.00</td>\n",
       "    </tr>\n",
       "    <tr>\n",
       "      <th>67984</th>\n",
       "      <td>B081TJFVCJ</td>\n",
       "      <td>Tobiasz Jedrysiak</td>\n",
       "      <td>5</td>\n",
       "      <td>December 24, 2019</td>\n",
       "      <td>True</td>\n",
       "      <td>Phone is like new</td>\n",
       "      <td>Product looks and works like new. Very much re...</td>\n",
       "      <td>NaN</td>\n",
       "      <td>Apple</td>\n",
       "      <td>Apple iPhone X, 64GB, Gray - Fully Unlocked (R...</td>\n",
       "      <td>https://www.amazon.com/Apple-iPhone-64GB-Gray-...</td>\n",
       "      <td>https://m.media-amazon.com/images/I/71yMgOenT5...</td>\n",
       "      <td>5.0</td>\n",
       "      <td>https://www.amazon.com/product-reviews/B081TJFVCJ</td>\n",
       "      <td>1</td>\n",
       "      <td>478.97</td>\n",
       "      <td>0.00</td>\n",
       "    </tr>\n",
       "    <tr>\n",
       "      <th>67985</th>\n",
       "      <td>B0825BB7SG</td>\n",
       "      <td>Owen Gonzalez</td>\n",
       "      <td>5</td>\n",
       "      <td>December 11, 2019</td>\n",
       "      <td>False</td>\n",
       "      <td>Outstanding phone for the price</td>\n",
       "      <td>I love the size and style of this phone. It is...</td>\n",
       "      <td>NaN</td>\n",
       "      <td>Samsung</td>\n",
       "      <td>Straight Talk Samsung Galaxy A10e Smartphone 5...</td>\n",
       "      <td>https://www.amazon.com/Straight-Samsung-Galaxy...</td>\n",
       "      <td>https://m.media-amazon.com/images/I/81+3SWSAhD...</td>\n",
       "      <td>5.0</td>\n",
       "      <td>https://www.amazon.com/product-reviews/B0825BB7SG</td>\n",
       "      <td>1</td>\n",
       "      <td>139.00</td>\n",
       "      <td>139.26</td>\n",
       "    </tr>\n",
       "  </tbody>\n",
       "</table>\n",
       "<p>67986 rows × 17 columns</p>\n",
       "</div>"
      ],
      "text/plain": [
       "             asin               name  rating                date  verified  \\\n",
       "0      B0000SX2UC              Janet       3    October 11, 2005     False   \n",
       "1      B0000SX2UC         Luke Wyatt       1     January 7, 2004     False   \n",
       "2      B0000SX2UC             Brooke       5   December 30, 2003     False   \n",
       "3      B0000SX2UC      amy m. teague       3      March 18, 2004     False   \n",
       "4      B0000SX2UC      tristazbimmer       4     August 28, 2005     False   \n",
       "...           ...                ...     ...                 ...       ...   \n",
       "67981  B081H6STQQ              jande       5     August 16, 2019     False   \n",
       "67982  B081H6STQQ            2cool4u       5  September 14, 2019     False   \n",
       "67983  B081H6STQQ              simon       5       July 14, 2019     False   \n",
       "67984  B081TJFVCJ  Tobiasz Jedrysiak       5   December 24, 2019      True   \n",
       "67985  B0825BB7SG      Owen Gonzalez       5   December 11, 2019     False   \n",
       "\n",
       "                                                   title  \\\n",
       "0                            Def not best, but not worst   \n",
       "1                            Text Messaging Doesn't Work   \n",
       "2                                        Love This Phone   \n",
       "3                                Love the Phone, BUT...!   \n",
       "4           Great phone service and options, lousy case!   \n",
       "...                                                  ...   \n",
       "67981  Awesome Phone, but finger scanner is a big mis...   \n",
       "67982                                    Simply Amazing!   \n",
       "67983  great phon3, but many bugs need to fix. still ...   \n",
       "67984                                  Phone is like new   \n",
       "67985                    Outstanding phone for the price   \n",
       "\n",
       "                                                    body  helpfulVotes  \\\n",
       "0      I had the Samsung A600 for awhile which is abs...           1.0   \n",
       "1      Due to a software issue between Nokia and Spri...          17.0   \n",
       "2      This is a great, reliable phone. I also purcha...           5.0   \n",
       "3      I love the phone and all, because I really did...           1.0   \n",
       "4      The phone has been great for every purpose it ...           1.0   \n",
       "...                                                  ...           ...   \n",
       "67981  I love the camera on this phone. The screen is...           1.0   \n",
       "67982  I've been an Xperia user for several years and...           1.0   \n",
       "67983                         buy one more for my cousin           NaN   \n",
       "67984  Product looks and works like new. Very much re...           NaN   \n",
       "67985  I love the size and style of this phone. It is...           NaN   \n",
       "\n",
       "         brand                                            product  \\\n",
       "0          NaN  Dual-Band / Tri-Mode Sprint PCS Phone w/ Voice...   \n",
       "1          NaN  Dual-Band / Tri-Mode Sprint PCS Phone w/ Voice...   \n",
       "2          NaN  Dual-Band / Tri-Mode Sprint PCS Phone w/ Voice...   \n",
       "3          NaN  Dual-Band / Tri-Mode Sprint PCS Phone w/ Voice...   \n",
       "4          NaN  Dual-Band / Tri-Mode Sprint PCS Phone w/ Voice...   \n",
       "...        ...                                                ...   \n",
       "67981     Sony  Sony Xperia 1 Unlocked Smartphone and WH1000XM...   \n",
       "67982     Sony  Sony Xperia 1 Unlocked Smartphone and WH1000XM...   \n",
       "67983     Sony  Sony Xperia 1 Unlocked Smartphone and WH1000XM...   \n",
       "67984    Apple  Apple iPhone X, 64GB, Gray - Fully Unlocked (R...   \n",
       "67985  Samsung  Straight Talk Samsung Galaxy A10e Smartphone 5...   \n",
       "\n",
       "                                                     url  \\\n",
       "0      https://www.amazon.com/Dual-Band-Tri-Mode-Acti...   \n",
       "1      https://www.amazon.com/Dual-Band-Tri-Mode-Acti...   \n",
       "2      https://www.amazon.com/Dual-Band-Tri-Mode-Acti...   \n",
       "3      https://www.amazon.com/Dual-Band-Tri-Mode-Acti...   \n",
       "4      https://www.amazon.com/Dual-Band-Tri-Mode-Acti...   \n",
       "...                                                  ...   \n",
       "67981  https://www.amazon.com/Sony-Smartphone-WH1000X...   \n",
       "67982  https://www.amazon.com/Sony-Smartphone-WH1000X...   \n",
       "67983  https://www.amazon.com/Sony-Smartphone-WH1000X...   \n",
       "67984  https://www.amazon.com/Apple-iPhone-64GB-Gray-...   \n",
       "67985  https://www.amazon.com/Straight-Samsung-Galaxy...   \n",
       "\n",
       "                                                   image  averageRating  \\\n",
       "0      https://m.media-amazon.com/images/I/2143EBQ210...            3.0   \n",
       "1      https://m.media-amazon.com/images/I/2143EBQ210...            3.0   \n",
       "2      https://m.media-amazon.com/images/I/2143EBQ210...            3.0   \n",
       "3      https://m.media-amazon.com/images/I/2143EBQ210...            3.0   \n",
       "4      https://m.media-amazon.com/images/I/2143EBQ210...            3.0   \n",
       "...                                                  ...            ...   \n",
       "67981  https://m.media-amazon.com/images/I/51zZTAXZTP...            4.5   \n",
       "67982  https://m.media-amazon.com/images/I/51zZTAXZTP...            4.5   \n",
       "67983  https://m.media-amazon.com/images/I/51zZTAXZTP...            4.5   \n",
       "67984  https://m.media-amazon.com/images/I/71yMgOenT5...            5.0   \n",
       "67985  https://m.media-amazon.com/images/I/81+3SWSAhD...            5.0   \n",
       "\n",
       "                                               reviewUrl  totalReviews  \\\n",
       "0      https://www.amazon.com/product-reviews/B0000SX2UC            14   \n",
       "1      https://www.amazon.com/product-reviews/B0000SX2UC            14   \n",
       "2      https://www.amazon.com/product-reviews/B0000SX2UC            14   \n",
       "3      https://www.amazon.com/product-reviews/B0000SX2UC            14   \n",
       "4      https://www.amazon.com/product-reviews/B0000SX2UC            14   \n",
       "...                                                  ...           ...   \n",
       "67981  https://www.amazon.com/product-reviews/B081H6STQQ            70   \n",
       "67982  https://www.amazon.com/product-reviews/B081H6STQQ            70   \n",
       "67983  https://www.amazon.com/product-reviews/B081H6STQQ            70   \n",
       "67984  https://www.amazon.com/product-reviews/B081TJFVCJ             1   \n",
       "67985  https://www.amazon.com/product-reviews/B0825BB7SG             1   \n",
       "\n",
       "        price  originalPrice  \n",
       "0        0.00           0.00  \n",
       "1        0.00           0.00  \n",
       "2        0.00           0.00  \n",
       "3        0.00           0.00  \n",
       "4        0.00           0.00  \n",
       "...       ...            ...  \n",
       "67981  948.00           0.00  \n",
       "67982  948.00           0.00  \n",
       "67983  948.00           0.00  \n",
       "67984  478.97           0.00  \n",
       "67985  139.00         139.26  \n",
       "\n",
       "[67986 rows x 17 columns]"
      ]
     },
     "execution_count": 15,
     "metadata": {},
     "output_type": "execute_result"
    }
   ],
   "source": [
    "df"
   ]
  },
  {
   "cell_type": "code",
   "execution_count": 16,
   "id": "db2f46f5",
   "metadata": {},
   "outputs": [
    {
     "data": {
      "text/plain": [
       "(67986, 17)"
      ]
     },
     "execution_count": 16,
     "metadata": {},
     "output_type": "execute_result"
    }
   ],
   "source": [
    "# get the column and row count\n",
    "df.shape"
   ]
  },
  {
   "cell_type": "markdown",
   "id": "d91a18da",
   "metadata": {},
   "source": [
    "#### Checking the missing values"
   ]
  },
  {
   "cell_type": "code",
   "execution_count": 17,
   "id": "8f1d1388",
   "metadata": {},
   "outputs": [
    {
     "data": {
      "text/plain": [
       "asin             False\n",
       "name              True\n",
       "rating           False\n",
       "date             False\n",
       "verified         False\n",
       "title             True\n",
       "body              True\n",
       "helpfulVotes      True\n",
       "brand             True\n",
       "product          False\n",
       "url              False\n",
       "image            False\n",
       "averageRating    False\n",
       "reviewUrl        False\n",
       "totalReviews     False\n",
       "price            False\n",
       "originalPrice    False\n",
       "dtype: bool"
      ]
     },
     "execution_count": 17,
     "metadata": {},
     "output_type": "execute_result"
    }
   ],
   "source": [
    "# Shows is there at least one missing value in any column\n",
    "df.isna().any() "
   ]
  },
  {
   "cell_type": "code",
   "execution_count": 18,
   "id": "a8b2e1bf",
   "metadata": {},
   "outputs": [
    {
     "data": {
      "text/plain": [
       "asin                 0\n",
       "name                 2\n",
       "rating               0\n",
       "date                 0\n",
       "verified             0\n",
       "title               14\n",
       "body                21\n",
       "helpfulVotes     40771\n",
       "brand              200\n",
       "product              0\n",
       "url                  0\n",
       "image                0\n",
       "averageRating        0\n",
       "reviewUrl            0\n",
       "totalReviews         0\n",
       "price                0\n",
       "originalPrice        0\n",
       "dtype: int64"
      ]
     },
     "execution_count": 18,
     "metadata": {},
     "output_type": "execute_result"
    }
   ],
   "source": [
    "#Shows how many missing values in each column\n",
    "df.isna().sum() "
   ]
  },
  {
   "cell_type": "code",
   "execution_count": 19,
   "id": "42dc04f7",
   "metadata": {},
   "outputs": [
    {
     "data": {
      "text/plain": [
       "array([1, 1, 1, ..., 1, 1, 1], dtype=int64)"
      ]
     },
     "execution_count": 19,
     "metadata": {},
     "output_type": "execute_result"
    }
   ],
   "source": [
    "#Shows how many missing values in each row\n",
    "df.isna().sum(axis=1).values "
   ]
  },
  {
   "cell_type": "code",
   "execution_count": 20,
   "id": "acc12fca",
   "metadata": {},
   "outputs": [
    {
     "data": {
      "text/plain": [
       "67986"
      ]
     },
     "execution_count": 20,
     "metadata": {},
     "output_type": "execute_result"
    }
   ],
   "source": [
    "len(df)"
   ]
  },
  {
   "cell_type": "code",
   "execution_count": 21,
   "id": "08e3a617",
   "metadata": {},
   "outputs": [
    {
     "data": {
      "text/plain": [
       "asin             0.000000\n",
       "name             0.000029\n",
       "rating           0.000000\n",
       "date             0.000000\n",
       "verified         0.000000\n",
       "title            0.000206\n",
       "body             0.000309\n",
       "helpfulVotes     0.599697\n",
       "brand            0.002942\n",
       "product          0.000000\n",
       "url              0.000000\n",
       "image            0.000000\n",
       "averageRating    0.000000\n",
       "reviewUrl        0.000000\n",
       "totalReviews     0.000000\n",
       "price            0.000000\n",
       "originalPrice    0.000000\n",
       "dtype: float64"
      ]
     },
     "execution_count": 21,
     "metadata": {},
     "output_type": "execute_result"
    }
   ],
   "source": [
    "#Shows the percentages of missing values in each column\n",
    "df.isna().sum()/len(df) "
   ]
  },
  {
   "cell_type": "code",
   "execution_count": 22,
   "id": "188a64af",
   "metadata": {},
   "outputs": [
    {
     "data": {
      "text/plain": [
       "40915"
      ]
     },
     "execution_count": 22,
     "metadata": {},
     "output_type": "execute_result"
    }
   ],
   "source": [
    "#shows how may rows are there with at least one missing value\n",
    "df.isnull().any(axis = 1).sum() "
   ]
  },
  {
   "cell_type": "code",
   "execution_count": 23,
   "id": "441ad778",
   "metadata": {},
   "outputs": [
    {
     "data": {
      "text/plain": [
       "0"
      ]
     },
     "execution_count": 23,
     "metadata": {},
     "output_type": "execute_result"
    }
   ],
   "source": [
    "#shows how many rows are there with only missing values\n",
    "df.isnull().all(axis = 1).sum()"
   ]
  },
  {
   "cell_type": "markdown",
   "id": "6ed23494",
   "metadata": {},
   "source": [
    "#### Filling missing values"
   ]
  },
  {
   "cell_type": "code",
   "execution_count": 24,
   "id": "a847d7e3",
   "metadata": {},
   "outputs": [],
   "source": [
    "# Filling missing values in helpfulVotes column with 0\n",
    "df[\"helpfulVotes\"].fillna(0,inplace=True) "
   ]
  },
  {
   "cell_type": "code",
   "execution_count": 25,
   "id": "fbd4f4f9",
   "metadata": {},
   "outputs": [
    {
     "data": {
      "text/plain": [
       "asin               0\n",
       "name               2\n",
       "rating             0\n",
       "date               0\n",
       "verified           0\n",
       "title             14\n",
       "body              21\n",
       "helpfulVotes       0\n",
       "brand            200\n",
       "product            0\n",
       "url                0\n",
       "image              0\n",
       "averageRating      0\n",
       "reviewUrl          0\n",
       "totalReviews       0\n",
       "price              0\n",
       "originalPrice      0\n",
       "dtype: int64"
      ]
     },
     "execution_count": 25,
     "metadata": {},
     "output_type": "execute_result"
    }
   ],
   "source": [
    "#Shows how many missing values in each column\n",
    "df.isna().sum() "
   ]
  },
  {
   "cell_type": "markdown",
   "id": "7ae71b21",
   "metadata": {},
   "source": [
    "#### Dropping rows that include missing values"
   ]
  },
  {
   "cell_type": "code",
   "execution_count": 26,
   "id": "98e30205",
   "metadata": {},
   "outputs": [
    {
     "data": {
      "text/plain": [
       "asin             False\n",
       "name              True\n",
       "rating           False\n",
       "date             False\n",
       "verified         False\n",
       "title             True\n",
       "body              True\n",
       "helpfulVotes     False\n",
       "brand             True\n",
       "product          False\n",
       "url              False\n",
       "image            False\n",
       "averageRating    False\n",
       "reviewUrl        False\n",
       "totalReviews     False\n",
       "price            False\n",
       "originalPrice    False\n",
       "dtype: bool"
      ]
     },
     "execution_count": 26,
     "metadata": {},
     "output_type": "execute_result"
    }
   ],
   "source": [
    "# Shows is there at least one missing value in any column\n",
    "df.isna().any() "
   ]
  },
  {
   "cell_type": "code",
   "execution_count": 31,
   "id": "bd962323",
   "metadata": {},
   "outputs": [],
   "source": [
    "# Define a function to merge two columns\n",
    "def merge_columns(row):\n",
    "    if pd.isnull(row['title']) and pd.isnull(row['body']):\n",
    "        return None\n",
    "    elif pd.isnull(row['title']):\n",
    "        return row['body']\n",
    "    elif pd.isnull(row['body']):\n",
    "        return row['title']\n",
    "    else:\n",
    "        return row['title'] + ' ' + row['body']\n",
    "\n",
    "# Apply the function to create a new column\n",
    "df['mergedReviewText'] = df.apply(merge_columns, axis=1)"
   ]
  },
  {
   "cell_type": "code",
   "execution_count": 32,
   "id": "acd413e4",
   "metadata": {},
   "outputs": [
    {
     "data": {
      "text/plain": [
       "asin                  0\n",
       "name                  2\n",
       "rating                0\n",
       "date                  0\n",
       "verified              0\n",
       "title                14\n",
       "body                 21\n",
       "helpfulVotes          0\n",
       "brand               200\n",
       "product               0\n",
       "url                   0\n",
       "image                 0\n",
       "averageRating         0\n",
       "reviewUrl             0\n",
       "totalReviews          0\n",
       "price                 0\n",
       "originalPrice         0\n",
       "mergedReviewText      5\n",
       "dtype: int64"
      ]
     },
     "execution_count": 32,
     "metadata": {},
     "output_type": "execute_result"
    }
   ],
   "source": [
    "#Shows how many missing values in each column\n",
    "df.isna().sum() "
   ]
  },
  {
   "cell_type": "code",
   "execution_count": 33,
   "id": "e5c3b01b",
   "metadata": {},
   "outputs": [
    {
     "name": "stdout",
     "output_type": "stream",
     "text": [
      "5\n"
     ]
    }
   ],
   "source": [
    "missing_both = df[df['title'].isnull() & df['body'].isnull()]\n",
    "print(len(missing_both))"
   ]
  },
  {
   "cell_type": "code",
   "execution_count": 34,
   "id": "612a77e3",
   "metadata": {},
   "outputs": [
    {
     "data": {
      "text/plain": [
       "asin                  0\n",
       "name                  2\n",
       "rating                0\n",
       "date                  0\n",
       "verified              0\n",
       "title                14\n",
       "body                 21\n",
       "helpfulVotes          0\n",
       "brand               200\n",
       "product               0\n",
       "url                   0\n",
       "image                 0\n",
       "averageRating         0\n",
       "reviewUrl             0\n",
       "totalReviews          0\n",
       "price                 0\n",
       "originalPrice         0\n",
       "mergedReviewText      5\n",
       "dtype: int64"
      ]
     },
     "execution_count": 34,
     "metadata": {},
     "output_type": "execute_result"
    }
   ],
   "source": [
    "#Shows how many missing values in each column\n",
    "df.isna().sum() "
   ]
  },
  {
   "cell_type": "code",
   "execution_count": 35,
   "id": "1da0e2e9",
   "metadata": {},
   "outputs": [],
   "source": [
    "#Drop title and body column\n",
    "df = df.drop(['title', 'body'], axis=1)"
   ]
  },
  {
   "cell_type": "code",
   "execution_count": 36,
   "id": "de6a4faf",
   "metadata": {},
   "outputs": [
    {
     "data": {
      "text/plain": [
       "asin                  0\n",
       "name                  2\n",
       "rating                0\n",
       "date                  0\n",
       "verified              0\n",
       "helpfulVotes          0\n",
       "brand               200\n",
       "product               0\n",
       "url                   0\n",
       "image                 0\n",
       "averageRating         0\n",
       "reviewUrl             0\n",
       "totalReviews          0\n",
       "price                 0\n",
       "originalPrice         0\n",
       "mergedReviewText      5\n",
       "dtype: int64"
      ]
     },
     "execution_count": 36,
     "metadata": {},
     "output_type": "execute_result"
    }
   ],
   "source": [
    "#Shows how many missing values in each column\n",
    "df.isna().sum()"
   ]
  },
  {
   "cell_type": "code",
   "execution_count": 37,
   "id": "4a11f908",
   "metadata": {},
   "outputs": [
    {
     "data": {
      "text/plain": [
       "(67986, 16)"
      ]
     },
     "execution_count": 37,
     "metadata": {},
     "output_type": "execute_result"
    }
   ],
   "source": [
    "# get the column and row count\n",
    "df.shape"
   ]
  },
  {
   "cell_type": "code",
   "execution_count": 38,
   "id": "970d88ef",
   "metadata": {},
   "outputs": [],
   "source": [
    "df = df.dropna(subset=['mergedReviewText'])"
   ]
  },
  {
   "cell_type": "code",
   "execution_count": 39,
   "id": "025f5529",
   "metadata": {},
   "outputs": [
    {
     "data": {
      "text/plain": [
       "(67981, 16)"
      ]
     },
     "execution_count": 39,
     "metadata": {},
     "output_type": "execute_result"
    }
   ],
   "source": [
    "# get the column and row count\n",
    "df.shape"
   ]
  },
  {
   "cell_type": "code",
   "execution_count": 40,
   "id": "bc55e81d",
   "metadata": {},
   "outputs": [
    {
     "data": {
      "text/plain": [
       "asin                  0\n",
       "name                  2\n",
       "rating                0\n",
       "date                  0\n",
       "verified              0\n",
       "helpfulVotes          0\n",
       "brand               200\n",
       "product               0\n",
       "url                   0\n",
       "image                 0\n",
       "averageRating         0\n",
       "reviewUrl             0\n",
       "totalReviews          0\n",
       "price                 0\n",
       "originalPrice         0\n",
       "mergedReviewText      0\n",
       "dtype: int64"
      ]
     },
     "execution_count": 40,
     "metadata": {},
     "output_type": "execute_result"
    }
   ],
   "source": [
    "#Shows how many missing values in each column\n",
    "df.isna().sum()"
   ]
  },
  {
   "cell_type": "code",
   "execution_count": 41,
   "id": "55912583",
   "metadata": {},
   "outputs": [],
   "source": [
    "df = df.dropna(subset=['brand'])"
   ]
  },
  {
   "cell_type": "code",
   "execution_count": 42,
   "id": "cd37d5dc",
   "metadata": {},
   "outputs": [
    {
     "data": {
      "text/plain": [
       "(67781, 16)"
      ]
     },
     "execution_count": 42,
     "metadata": {},
     "output_type": "execute_result"
    }
   ],
   "source": [
    "# get the column and row count\n",
    "df.shape"
   ]
  },
  {
   "cell_type": "code",
   "execution_count": 43,
   "id": "c5332242",
   "metadata": {},
   "outputs": [
    {
     "data": {
      "text/plain": [
       "asin                0\n",
       "name                2\n",
       "rating              0\n",
       "date                0\n",
       "verified            0\n",
       "helpfulVotes        0\n",
       "brand               0\n",
       "product             0\n",
       "url                 0\n",
       "image               0\n",
       "averageRating       0\n",
       "reviewUrl           0\n",
       "totalReviews        0\n",
       "price               0\n",
       "originalPrice       0\n",
       "mergedReviewText    0\n",
       "dtype: int64"
      ]
     },
     "execution_count": 43,
     "metadata": {},
     "output_type": "execute_result"
    }
   ],
   "source": [
    "#Shows how many missing values in each column\n",
    "df.isna().sum()"
   ]
  },
  {
   "cell_type": "markdown",
   "id": "1f80b23e",
   "metadata": {},
   "source": [
    "### Dealing with duplicates"
   ]
  },
  {
   "cell_type": "markdown",
   "id": "6f46c32d",
   "metadata": {},
   "source": [
    "#### Checking duplicated rows"
   ]
  },
  {
   "cell_type": "code",
   "execution_count": 44,
   "id": "42aef4fc",
   "metadata": {},
   "outputs": [
    {
     "data": {
      "text/plain": [
       "14       False\n",
       "15       False\n",
       "16       False\n",
       "17       False\n",
       "18       False\n",
       "         ...  \n",
       "67981    False\n",
       "67982    False\n",
       "67983    False\n",
       "67984    False\n",
       "67985    False\n",
       "Length: 67781, dtype: bool"
      ]
     },
     "execution_count": 44,
     "metadata": {},
     "output_type": "execute_result"
    }
   ],
   "source": [
    "#returns True for duplicated rows\n",
    "df.duplicated() "
   ]
  },
  {
   "cell_type": "code",
   "execution_count": 45,
   "id": "1b50eb93",
   "metadata": {},
   "outputs": [
    {
     "data": {
      "text/plain": [
       "12"
      ]
     },
     "execution_count": 45,
     "metadata": {},
     "output_type": "execute_result"
    }
   ],
   "source": [
    "#returns the number of duplicated rows\n",
    "df.duplicated().sum() "
   ]
  },
  {
   "cell_type": "markdown",
   "id": "a36e5280",
   "metadata": {},
   "source": [
    "#### Dropping duplicated rows"
   ]
  },
  {
   "cell_type": "code",
   "execution_count": 46,
   "id": "4ae429e4",
   "metadata": {},
   "outputs": [],
   "source": [
    "df.drop_duplicates(inplace=True)"
   ]
  },
  {
   "cell_type": "code",
   "execution_count": 47,
   "id": "f10cbe17",
   "metadata": {},
   "outputs": [
    {
     "data": {
      "text/plain": [
       "0"
      ]
     },
     "execution_count": 47,
     "metadata": {},
     "output_type": "execute_result"
    }
   ],
   "source": [
    "df.duplicated().sum() "
   ]
  },
  {
   "cell_type": "markdown",
   "id": "2bf09339",
   "metadata": {},
   "source": [
    "# Save new dataset as a CSV file"
   ]
  },
  {
   "cell_type": "code",
   "execution_count": 48,
   "id": "11c9e782",
   "metadata": {},
   "outputs": [],
   "source": [
    "df.to_csv('C:/Users/DELL/Desktop/Research/Data/PreprocessedDataset.csv', index=False)"
   ]
  },
  {
   "cell_type": "code",
   "execution_count": null,
   "id": "b9ed6a29",
   "metadata": {},
   "outputs": [],
   "source": []
  }
 ],
 "metadata": {
  "kernelspec": {
   "display_name": "Python 3 (ipykernel)",
   "language": "python",
   "name": "python3"
  },
  "language_info": {
   "codemirror_mode": {
    "name": "ipython",
    "version": 3
   },
   "file_extension": ".py",
   "mimetype": "text/x-python",
   "name": "python",
   "nbconvert_exporter": "python",
   "pygments_lexer": "ipython3",
   "version": "3.9.13"
  }
 },
 "nbformat": 4,
 "nbformat_minor": 5
}
